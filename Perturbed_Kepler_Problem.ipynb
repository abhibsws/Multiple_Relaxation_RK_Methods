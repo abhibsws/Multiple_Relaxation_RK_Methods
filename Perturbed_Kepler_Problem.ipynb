{
 "cells": [
  {
   "cell_type": "markdown",
   "id": "1ae33ded",
   "metadata": {},
   "source": [
    "## Example 4. The Perturbed Kepler's problem"
   ]
  },
  {
   "cell_type": "markdown",
   "id": "6df58d8b",
   "metadata": {},
   "source": [
    "This notebook solves the perturbed Kepler's problem by different RK methods and their relaxation versions:\n",
    "\n",
    "\\begin{align}\n",
    "    \\dot{q_{1}} & = p_{1} \\\\\n",
    "    \\dot{q_{2}} & = p_{2} \\\\\n",
    "    \\dot{p_{1}} & = -\\frac{q_{1}}{\\left(q_{1}^2+q_{2}^2\\right)^{3/2}} -\\mu \\frac{q_{1}}{\\left(q_{1}^2+q_{2}^2\\right)^{5/2}} \\\\\n",
    "    \\dot{p_{2}} & =-\\frac{q_{2}}{\\left(q_{1}^2+q_{2}^2\\right)^{3/2}}  -\\mu\\frac{q_{2}}{\\left(q_{1}^2+q_{2}^2\\right)^{5/2}} \\;,\n",
    "\\end{align}\n",
    "where $\\mu = 0.005$ and the initial condition is $ \\left(q_{1}(0),q_{2}(0),p_{1}(0),p_{2}(0)\\right)^{T}=\\left(1-e,0,0,\\sqrt{\\frac{1+e}{1-e}}\\right)^{T}$, where $e=0.6$. \n",
    "Two conserved quantities are:\n",
    "\\begin{align}\n",
    "    H(q,p) & = \\frac{1}{2}\\left(p_{1}^2+p_{2}^2\\right)-\\frac{1}{\\sqrt{q_{1}^2+q_{2}^2}}-\\frac{\\mu}{2\\sqrt{\\left(q_{1}^2+q_{2}^2\\right)^3}}\\ (\\text{Hamiltonian}) \\\\\n",
    "    L(q,p) & = q_{1}p_{2}-q_{2}p_{1}\\ (\\text{angular momentum}) \\;.\n",
    "\\end{align}"
   ]
  },
  {
   "cell_type": "code",
   "execution_count": null,
   "id": "5d9c768d",
   "metadata": {},
   "outputs": [],
   "source": [
    "#Required libraries \n",
    "import numpy as np\n",
    "import matplotlib.pyplot as plt\n",
    "from scipy.optimize import fsolve\n",
    "from nodepy import rk\n",
    "from IPython.display import clear_output\n",
    "from RKSchemes import ssp22, heun33, ssp33, rk44, fehlberg45, dp75"
   ]
  },
  {
   "cell_type": "code",
   "execution_count": null,
   "id": "b7237a85",
   "metadata": {},
   "outputs": [],
   "source": [
    "# Parameter \n",
    "mu = 0.005\n",
    "\n",
    "# Required functions for Kepler's problem\n",
    "def kepler_f(u):\n",
    "    q1 = u[0]\n",
    "    q2 = u[1]\n",
    "    p1 = u[2]\n",
    "    p2 = u[3]\n",
    "    abs_q = np.sqrt(q1*q1 + q2*q2)   \n",
    "    dq1 = p1\n",
    "    dq2 = p2\n",
    "    dp1 = -q1 / (abs_q*abs_q*abs_q) -(3*mu/2)*(q1 / (abs_q*abs_q*abs_q*abs_q*abs_q))\n",
    "    dp2 = -q2 / (abs_q*abs_q*abs_q) -(3*mu/2)*(q2 / (abs_q*abs_q*abs_q*abs_q*abs_q))\n",
    "    return np.array([dq1, dq2, dp1, dp2])\n",
    "\n",
    "def kepler_energy_H(u):\n",
    "    abs_q = np.sqrt(u[0]*u[0] + u[1]*u[1])\n",
    "    abs2_q = u[0]*u[0] + u[1]*u[1]\n",
    "    abs2_p = u[2]*u[2] + u[3]*u[3]\n",
    "    return 0.5 * abs2_p - 1.0 / np.sqrt(abs2_q) - (mu/2)*(1.0/(abs_q*abs_q*abs_q))\n",
    "\n",
    "def kepler_angular_momentum_L(u):\n",
    "    q1 = u[0]\n",
    "    q2 = u[1]\n",
    "    p1 = u[2]\n",
    "    p2 = u[3]\n",
    "    return q1*p2 - q2*p1\n",
    "\n",
    "def rgam(gammas,u,inc1,inc2,E1_old,E2_old):\n",
    "    gamma1, gamma2 = gammas\n",
    "    uprop = u + gamma1*inc1 + gamma2*inc2  \n",
    "    E1 = kepler_energy_H(uprop)\n",
    "    E2 = kepler_angular_momentum_L(uprop)\n",
    "    return np.array([E1-E1_old,E2-E2_old])"
   ]
  },
  {
   "cell_type": "markdown",
   "id": "931faec5",
   "metadata": {},
   "source": [
    "### Baseline RK methods"
   ]
  },
  {
   "cell_type": "code",
   "execution_count": null,
   "id": "e7dd8a1a",
   "metadata": {},
   "outputs": [],
   "source": [
    "# Compute solution with baseline methods\n",
    "def compute_sol_without_relaxation(Mthdname,rkm, dt, f, T, u0,t0): \n",
    "    tt = np.zeros(1) \n",
    "    t = t0; tt[0] = t\n",
    "    uu = np.zeros((1,np.size(u0))) \n",
    "    uu[0,:] = u0.copy()\n",
    "    \n",
    "    s = len(rkm)\n",
    "    y = np.zeros((s,len(u0))) \n",
    "    F = np.zeros((s,len(u0))) \n",
    "    steps = 0\n",
    "    \n",
    "    while t < T and not np.isclose(t, T):\n",
    "        clear_output(wait=True)\n",
    "        if t + dt > T:\n",
    "            dt = T - t\n",
    "        for i in range(s):\n",
    "            y[i,:] = uu[-1].copy()\n",
    "            for j in range(i):\n",
    "                y[i,:] += dt*rkm.A[i,j]*F[j,:]\n",
    "            F[i,:] = f(y[i,:])\n",
    "        inc = dt*sum([rkm.b[i]*F[i] for i in range(s)])    \n",
    "        unew = uu[-1]+inc; t+= dt\n",
    "        tt = np.append(tt, t)\n",
    "        steps +=1\n",
    "        uu = np.append(uu, np.reshape(unew.copy(), (1,len(unew))), axis=0)  \n",
    "        print(\"Method = Baseline %s: Step number = %d (time = %1.2f)\"%(Mthdname,steps,tt[-1]))\n",
    "    return tt, uu"
   ]
  },
  {
   "cell_type": "markdown",
   "id": "391f722e",
   "metadata": {},
   "source": [
    "### Relaxation RK methods"
   ]
  },
  {
   "cell_type": "code",
   "execution_count": null,
   "id": "dc49a633",
   "metadata": {},
   "outputs": [],
   "source": [
    "# Computing solution with multiple relaxation methods\n",
    "def compute_sol_multi_relaxation(Mthdname, rkm, dt, f, T, u0, t0):\n",
    "    tt = np.zeros(1) \n",
    "    t = 0; tt[0] = t\n",
    "    uu = np.zeros((1,np.size(u0))) \n",
    "    uu[0,:] = u0.copy()\n",
    "    \n",
    "    s = len(rkm)\n",
    "    y = np.zeros((s,len(u0))) \n",
    "    F = np.zeros((s,len(u0))) \n",
    "    \n",
    "    G1 = np.array([]); G2 = np.array([]) \n",
    "    no_inv = 2; gammas0 = np.zeros(no_inv)\n",
    "    \n",
    "    errs = 0; steps = 0\n",
    "    \n",
    "    while t < T and not np.isclose(t, T):\n",
    "        clear_output(wait=True)\n",
    "        if t + dt > T:\n",
    "            dt = T - t\n",
    "        for i in range(s):\n",
    "            y[i,:] = uu[-1].copy()\n",
    "            for j in range(i):\n",
    "                y[i,:] += dt*rkm.A[i,j]*F[j,:]\n",
    "            F[i,:] = f(y[i,:])\n",
    "            \n",
    "        inc1 = dt*sum([rkm.b[i]*F[i] for i in range(s)])\n",
    "        inc2 = dt*sum([rkm.bhat[i]*F[i] for i in range(s)])\n",
    "        \n",
    "        wr_unew = uu[-1] + inc1\n",
    "        E1_old = kepler_energy_H(uu[-1]); E2_old = kepler_angular_momentum_L(uu[-1])\n",
    "        \n",
    "        gammas, info, ier, mesg = fsolve(rgam,gammas0,args=(wr_unew,inc1,inc2,E1_old,E2_old),full_output=True)\n",
    "        gamma1, gamma2= gammas\n",
    "        \n",
    "        steps += 1\n",
    "        unew =  wr_unew + gamma1*inc1 + gamma2*inc2; t+=(1+gamma1+gamma2)*dt\n",
    "        tt = np.append(tt, t)\n",
    "        uu = np.append(uu, np.reshape(unew.copy(), (1,len(unew))), axis=0) \n",
    "        G1 = np.append(G1, gamma1); G2 = np.append(G2, gamma2)\n",
    "        print(\"Method = Relaxation %s: At step number = %d (time = %1.2f), integer flag = %d and γ1+γ2 = %f \\n\"%(Mthdname,steps,tt[-1],ier,gamma1+gamma2))\n",
    "    \n",
    "    return tt, uu, G1, G2"
   ]
  },
  {
   "cell_type": "markdown",
   "id": "a5fe0b21",
   "metadata": {},
   "source": [
    "### Compute solution by all methods"
   ]
  },
  {
   "cell_type": "code",
   "execution_count": null,
   "id": "1ffa3067",
   "metadata": {},
   "outputs": [],
   "source": [
    "# Computing solutions by all the methods\n",
    "%time \n",
    "eqn = 'Per_Kep'\n",
    "methods = [ssp33,fehlberg45,dp75]\n",
    "method_labels = [\"SSPRK(3,3)\", \"Fehlberg(6,4)\", \"DP5(7,5)\"]\n",
    "method_names = [\"SSPRKs3p3\", \"Fehlbergs6p4\", \"DP5s7p5\"]\n",
    "\n",
    "# Inputs to solve the system of ODEs\n",
    "DT = [ .05,.05,.1];  f = kepler_f; T = 300; \n",
    "# Initial condition\n",
    "e = 0.6; t0 = 0; u0 = np.array([1.0 - e, 0.0, 0.0, np.sqrt((1+e)/(1-e))])\n",
    "\n",
    "b_tt = []; b_uu = []; r_tt = []; r_uu = []  \n",
    "\n",
    "for idx in range(len(methods)):\n",
    "    print(idx)\n",
    "    rkm = methods[idx]; dt = DT[idx]\n",
    "    tt, uu, G1, G2 = compute_sol_multi_relaxation(method_labels[idx], rkm, dt, f, T, u0, t0)\n",
    "    r_tt.append(tt); r_uu.append(uu)    \n",
    "    \n",
    "for idx in range(len(methods)):\n",
    "    rkm = methods[idx]; dt = DT[idx]\n",
    "    tt, uu = compute_sol_without_relaxation(method_labels[idx], rkm, dt, f, T, u0, t0)\n",
    "    b_tt.append(tt); b_uu.append(uu)\n"
   ]
  },
  {
   "cell_type": "code",
   "execution_count": null,
   "id": "66ef2f73",
   "metadata": {},
   "outputs": [],
   "source": [
    "import os\n",
    "path = '%s'%('Figures')\n",
    "\n",
    "import os\n",
    "if not os.path.exists(path):\n",
    "   os.makedirs(path)"
   ]
  },
  {
   "cell_type": "markdown",
   "id": "27056d2e",
   "metadata": {},
   "source": [
    "### Compute and plot change in invariants by different methods"
   ]
  },
  {
   "cell_type": "code",
   "execution_count": null,
   "id": "7adcc6d4",
   "metadata": {},
   "outputs": [],
   "source": [
    "b_INV_H = []; b_INV_L = []\n",
    "r_INV_H = []; r_INV_L = []\n",
    "for i in range(len(methods)):\n",
    "    b_inv_H = [kepler_energy_H(u) for u in b_uu[i]] - kepler_energy_H(b_uu[i][0])\n",
    "    b_inv_L = [kepler_angular_momentum_L(u) for u in b_uu[i]] - kepler_angular_momentum_L(b_uu[i][0])\n",
    "    r_inv_H = [kepler_energy_H(u) for u in r_uu[i]] - kepler_energy_H(r_uu[i][0])\n",
    "    r_inv_L = [kepler_angular_momentum_L(u) for u in r_uu[i]] - kepler_angular_momentum_L(r_uu[i][0])\n",
    "    b_INV_H.append(b_inv_H); b_INV_L.append(b_inv_L)\n",
    "    r_INV_H.append(r_inv_H); r_INV_L.append(r_inv_L)"
   ]
  },
  {
   "cell_type": "code",
   "execution_count": null,
   "id": "fd421afc",
   "metadata": {},
   "outputs": [],
   "source": [
    "font = {#'family' : 'normal',\n",
    "'weight' : 'normal',\n",
    "'size'   : 14}\n",
    "plt.rc('font', **font) \n",
    "plt.figure(figsize=(15, 4))\n",
    "for i in range(len(methods)):\n",
    "    plt.subplot(1,3,i+1)\n",
    "    plt.plot(b_tt[i],b_INV_H[i],':r',label=\"Baseline: $H(p(t),q(t))-H(p(0),q(0))$\")\n",
    "    plt.plot(r_tt[i],r_INV_H[i],'-r',label=\"Relaxation: $H(p(t),q(t))-H(p(0),q(0))$\")\n",
    "    plt.plot(b_tt[i],b_INV_L[i],':b',label=\"Baseline: $L(p(t),q(t))-L(p(0),q(0))$\")\n",
    "    plt.plot(r_tt[i],r_INV_L[i],'-b',label=\"Relaxation: $L(p(t),q(t))-L(p(0),q(0))$\")\n",
    "    plt.title(\"%s with $\\Delta t$ = %.2f\"%(method_labels[i],DT[i]))\n",
    "    plt.xlabel(\"$t$\");\n",
    "    plt.yscale(\"symlog\", linthresh=1.e-14)\n",
    "    plt.yticks([-1.e-6, -1.e-10, -1.e-14, 1.e-14, 1.e-10, 1.e-6])\n",
    "    plt.tight_layout()\n",
    "    \n",
    "ax = plt.gca()\n",
    "handles, labels = ax.get_legend_handles_labels()\n",
    "plt.figlegend(handles, labels, loc='upper center', ncol=2, bbox_to_anchor=(0.5, 1.2))\n",
    "plt.savefig(\"./Figures/Per_Kepler_2_Inv_Error_Time.pdf\", bbox_inches=\"tight\")"
   ]
  },
  {
   "cell_type": "markdown",
   "id": "b3739c3a",
   "metadata": {},
   "source": [
    "### Proxy of Exact solution by Dense Output of \"dopri5\" method"
   ]
  },
  {
   "cell_type": "code",
   "execution_count": null,
   "id": "39db3ea2",
   "metadata": {},
   "outputs": [],
   "source": [
    "import numpy as np\n",
    "from scipy import integrate \n",
    "from scipy.integrate import ode\n",
    "# true solution by Dormand–Prince method \n",
    "\n",
    "def Per_Kepler_f_tu(t,u):\n",
    "    q1 = u[0]\n",
    "    q2 = u[1]\n",
    "    p1 = u[2]\n",
    "    p2 = u[3]\n",
    "    abs_q = np.sqrt(q1*q1 + q2*q2)   \n",
    "    dq1 = p1\n",
    "    dq2 = p2\n",
    "    dp1 = -q1 / (abs_q*abs_q*abs_q) -(3*mu/2)*(q1 / (abs_q*abs_q*abs_q*abs_q*abs_q))\n",
    "    dp2 = -q2 / (abs_q*abs_q*abs_q) -(3*mu/2)*(q2 / (abs_q*abs_q*abs_q*abs_q*abs_q))\n",
    "    return np.array([dq1, dq2, dp1, dp2])\n",
    "\n",
    "def analytical_u_Per_Kep(t,u0):\n",
    "    true_u = np.zeros((len(t), len(u0)))   \n",
    "    t0 = 0; true_u[0, :] = u0\n",
    "    r = integrate.ode(Per_Kepler_f_tu).set_integrator(\"dopri5\", rtol=1e-16, atol=1e-16)\n",
    "    r.set_initial_value(u0, t0)\n",
    "    for i in range(1, t.size):\n",
    "        true_u[i, :] = r.integrate(t[i]) \n",
    "        if not r.successful():\n",
    "            raise RuntimeError(\"Could not integrate\")\n",
    "    return true_u"
   ]
  },
  {
   "cell_type": "markdown",
   "id": "a70db820",
   "metadata": {},
   "source": [
    "### Compute and plot errors by different methods"
   ]
  },
  {
   "cell_type": "code",
   "execution_count": null,
   "id": "5380f003",
   "metadata": {},
   "outputs": [],
   "source": [
    "b_ERR = []; r_ERR = []; B_uexact = []; R_uexact = []\n",
    "# Initial condition\n",
    "e = 0.6; u0 = np.array([1.0 - e, 0.0, 0.0, np.sqrt((1+e)/(1-e))])\n",
    "for i in range(len(methods)):\n",
    "    # maximum norm\n",
    "    b_t = b_tt[i]; b_uexact = analytical_u_Per_Kep(b_t,u0)\n",
    "    b_err = np.max(np.abs(b_uu[i]-b_uexact),axis=1)  \n",
    "    r_t = r_tt[i]; r_uexact = analytical_u_Per_Kep(r_t,u0)\n",
    "    r_err = np.max(np.abs(r_uu[i]-r_uexact),axis=1)\n",
    "    b_ERR.append(b_err); r_ERR.append(r_err)\n",
    "    B_uexact.append(b_uexact); R_uexact.append(r_uexact)   "
   ]
  },
  {
   "cell_type": "code",
   "execution_count": null,
   "id": "601f7abc",
   "metadata": {},
   "outputs": [],
   "source": [
    "lgd_box_pos = [[0.4,0.2,0.5, 0.5],[0.4,0.1,0.5, 0.5],[0.4,0.5,0.5, 0.5]]\n",
    "sl1_cons_mult = [1e-3,6e-6,1.5e-5]; sl1_p = [1,1,1]\n",
    "sl2_cons_mult = [4*1e-4,6*1e-7,1e-5]; sl2_p = [2,2,2]\n",
    "y_scale_line = [1e-10,1e-8,1e-7]\n",
    "font = {#'family' : 'normal',\n",
    "'weight' : 'normal',\n",
    "'size'   : 14}\n",
    "plt.rc('font', **font)\n",
    "shift = 1\n",
    "plt.figure(figsize=(15, 4))\n",
    "\n",
    "for i in range(len(methods)):\n",
    "    plt.subplot(1,3,i+1)\n",
    "    plt.plot(b_tt[i]+shift,b_ERR[i],':',color='orangered',label=\"Baseline\")\n",
    "    plt.plot(r_tt[i]+shift,r_ERR[i],'-g',label=\"Relaxation\")\n",
    "    sl_t = np.linspace(10,T,1000)\n",
    "    sl_t_1 = np.linspace(10,50,1000)\n",
    "\n",
    "    if i !=0:\n",
    "        plt.plot(sl_t,sl1_cons_mult[i]*sl_t**sl1_p[i],'--',color='0.5',label=\"$\\mathcal{O}(t^{%d})$\"%(sl1_p[i]))\n",
    "        plt.plot(sl_t,sl2_cons_mult[i]*sl_t**sl2_p[i],'-',color='0.5',label=\"$\\mathcal{O}(t^{%d})$\"%(sl2_p[i]))\n",
    "    else:\n",
    "        plt.plot(sl_t,sl1_cons_mult[i]*sl_t**sl1_p[i],'--',color='0.5',label=\"$\\mathcal{O}(t^{%d})$\"%(sl1_p[i]))\n",
    "        plt.plot(sl_t_1,sl2_cons_mult[i]*sl_t_1**sl2_p[i],'-',color='0.5',label=\"$\\mathcal{O}(t^{%d})$\"%(sl2_p[i]))\n",
    "\n",
    "        \n",
    "    plt.xscale(\"log\"); plt.yscale(\"log\")\n",
    "    plt.xlabel('t'); plt.ylabel('Error in q')\n",
    "    plt.title(\"%s with $\\Delta t$ = %.2f\"%(method_labels[i],DT[i]))\n",
    "    plt.tight_layout()\n",
    "    \n",
    "ax = plt.gca()\n",
    "handles, labels = ax.get_legend_handles_labels()\n",
    "plt.figlegend(handles, labels, loc='upper center', ncol=6, bbox_to_anchor=(0.5, 1.1))\n",
    "plt.savefig(\"./Figures/Per_Kepler_Sol_Err_Time.pdf\", bbox_inches=\"tight\")"
   ]
  },
  {
   "cell_type": "markdown",
   "id": "d77677ce",
   "metadata": {},
   "source": [
    "### Plot numerical solutions "
   ]
  },
  {
   "cell_type": "code",
   "execution_count": null,
   "id": "006e7fa2",
   "metadata": {
    "scrolled": true
   },
   "outputs": [],
   "source": [
    "colors = [\"red\", \"blue\"]\n",
    "method_labels = [\"SSPRK(3,3)\", \"Fehlberg(6,4)\", \"DP5(7,5)\"]\n",
    "for i in range(len(methods)):\n",
    "    fig1 = plt.figure(i,figsize=(4,4))\n",
    "    plt.plot(b_uu[i][:,0],b_uu[i][:,1],'-r',label = \"Baseline: %s\"%(method_labels[i]))\n",
    "    plt.xlabel(\"$q_{1}$\");  plt.ylabel(\"$q_{2}$\")\n",
    "    plt.legend()\n",
    "    fig1.tight_layout()\n",
    "    plt.savefig('./Figures/Per_Kepler_Baseline_%s_Sol_dt%1.0e_tf%d.pdf'%(method_names[i],DT[i],T),format='pdf', bbox_inches=\"tight\",transparent=True)\n",
    "    \n",
    "for j in range(len(methods)):\n",
    "    fig2 = plt.figure(3+j,figsize=(4,4))\n",
    "    plt.plot(r_uu[j][:,0],r_uu[j][:,1],'-b',label = \"Relaxation: %s\"%(method_labels[j]))\n",
    "    plt.xlabel(\"$q_{1}$\");  plt.ylabel(\"$q_{2}$\")\n",
    "    plt.legend()\n",
    "    fig2.tight_layout()\n",
    "    plt.savefig('./Figures/Per_Kepler_Relaxation_%s_Sol_dt%1.0e_tf%d.pdf'%(method_names[j],DT[j],T),format='pdf', bbox_inches=\"tight\",transparent=True)\n"
   ]
  },
  {
   "cell_type": "markdown",
   "id": "01938357",
   "metadata": {},
   "source": [
    "### Plotting exact solution and comparision with numerical solution at a few last time steps"
   ]
  },
  {
   "cell_type": "code",
   "execution_count": null,
   "id": "62d8e651",
   "metadata": {},
   "outputs": [],
   "source": [
    "# Compute exact solution \n",
    "TT = np.linspace(0,T,10000)\n",
    "delta_t = TT[1]-TT[0]\n",
    "Exact_Sol = analytical_u_Per_Kep(TT,u0) "
   ]
  },
  {
   "cell_type": "code",
   "execution_count": null,
   "id": "99785a86",
   "metadata": {},
   "outputs": [],
   "source": [
    "colors = [\"red\", \"blue\"]; idx = 50\n",
    "method_labels = [\"SSPRK(3,3)\", \"Fehlberg(6,4)\", \"DP(7,5)\"]\n",
    "method_names = [\"SSPRKs3p3\", \"Fehlbergs6p4\", \"DP5s7p5\"]\n",
    "\n",
    "# Font size    \n",
    "font = {#'family' : 'normal',\n",
    "'weight' : 'normal',\n",
    "'size'   : 14}\n",
    "plt.rc('font', **font) \n",
    "\n",
    "for i in range(len(methods)):\n",
    "    fig = plt.figure(i,figsize=(4,4))\n",
    "    plt.plot(b_uu[i][-idx:-1,0],b_uu[i][-idx:-1,1],'o r',label = \"Baseline: %s\"%(method_labels[i]))\n",
    "    plt.plot(B_uexact[i][-idx:-1,0],B_uexact[i][-idx:-1,1],'-k',label = \"Exact solution\",linewidth=3)\n",
    "    plt.plot(r_uu[i][-idx:-1,0],r_uu[i][-idx:-1,1],'o b',label = \"Relaxation: %s\"%(method_labels[i]))\n",
    "    plt.legend()\n",
    "    fig.tight_layout()\n",
    "    plt.savefig('./Figures/Per_Kepler_%s_LastFewStepsSolComp_tf%d.pdf'%(method_names[i],T),format='pdf', bbox_inches=\"tight\",transparent=True)\n",
    "    \n",
    "# plot exact solution\n",
    "plt.figure(figsize=(4,4))\n",
    "plt.plot(Exact_Sol [:,0],Exact_Sol[:,1],'-k',label = \"Exact Solution\")\n",
    "plt.legend()\n",
    "fig.tight_layout()\n",
    "plt.savefig('./Figures/Per_Kepler_Exact_Orbit_dt%1.0e_tf%d.pdf'%(delta_t,T),format='pdf', bbox_inches=\"tight\",transparent=True)"
   ]
  },
  {
   "cell_type": "code",
   "execution_count": null,
   "id": "b4582ecc",
   "metadata": {},
   "outputs": [],
   "source": []
  }
 ],
 "metadata": {
  "kernelspec": {
   "display_name": "Python 3 (ipykernel)",
   "language": "python",
   "name": "python3"
  },
  "language_info": {
   "codemirror_mode": {
    "name": "ipython",
    "version": 3
   },
   "file_extension": ".py",
   "mimetype": "text/x-python",
   "name": "python",
   "nbconvert_exporter": "python",
   "pygments_lexer": "ipython3",
   "version": "3.8.13"
  }
 },
 "nbformat": 4,
 "nbformat_minor": 5
}
