{
 "cells": [
  {
   "cell_type": "markdown",
   "id": "e60631ae",
   "metadata": {},
   "source": [
    "## Example 2. Bi-Hamitonian 3D Lotka-Volterra System"
   ]
  },
  {
   "cell_type": "markdown",
   "id": "bb80f75c",
   "metadata": {},
   "source": [
    "This notebook solves the 3D bi Hamiltonian Lotka Volterra system of equations by different RK methods and their relaxation versions:\n",
    "\n",
    "\\begin{align}\n",
    "    &\\dot{u}_{1}=u_{1}\\left(c u_{2}+u_{3}+\\lambda\\right) \\\\\n",
    "    &\\dot{u}_{2}=u_{2}\\left(u_{1}+a u_{3}+\\mu\\right) \\\\\n",
    "    &\\dot{u}_{3}=u_{3}\\left(b u_{1}+u_{2}+\\nu\\right) \\;,\n",
    "\\end{align}\n",
    "   where $\\lambda, \\mu, \\nu >0$, $abc=-1$ and $\\nu = \\mu b - \\lambda ab$. Domain is the interval $[0,400]$ and the parameters $(a,b,c,\\lambda,\\mu,\\nu) = (-1,-1,-1,0,1,-1)$. The initial condition is taken as $\\left(u_1(0),u_2(0),u_3(0)\\right)^T = (1,1.9,0.5)^T$. Two nonlinear conserved quantities:\n",
    "\n",
    "\\begin{align}\n",
    "    & H_1 = ab \\ln{u_1} - b \\ln{u_2} + \\ln{u_3} \\;, \\\\\n",
    "    & H_2 = ab u_1 + u_2 - a u_3 + \\nu \\ln{u_2} - \\mu \\ln{u_3}.\n",
    "\\end{align}\n"
   ]
  },
  {
   "cell_type": "code",
   "execution_count": null,
   "id": "4a5071bf",
   "metadata": {},
   "outputs": [],
   "source": [
    "#Required libraries \n",
    "import numpy as np\n",
    "import matplotlib.pyplot as plt\n",
    "from scipy.optimize import fsolve\n",
    "from nodepy import rk\n",
    "from IPython.display import clear_output\n",
    "from RKSchemes import ssp22, heun33, ssp33, rk44, dp75\n",
    "\n",
    "# Fifth order Fehlberg(6,5) method with a fourth order embeddings. The default Fehlberg method is 5th order\n",
    "# with given b and 4th order with bhat. \n",
    "fehlberg45 = rk.loadRKM(\"Fehlberg45\").__num__()"
   ]
  },
  {
   "cell_type": "code",
   "execution_count": null,
   "id": "567aa2b4",
   "metadata": {},
   "outputs": [],
   "source": [
    "# Required functions for the 3D Lotka-Volterra system\n",
    "def LVS3D_f(u):\n",
    "    u1 = u[0]; u2 = u[1]; u3 = u[2];\n",
    "    a = -1; b = -1; c = -1; la = 0; mu = 1; nu = -1;\n",
    "    du1 = u1*(c*u2 + u3 + la)\n",
    "    du2 = u2*(u1 + a*u3 + mu)\n",
    "    du3 = u3*(b*u1 + u2 + nu)\n",
    "    return np.array([du1, du2, du3])\n",
    "\n",
    "def H_1(u):\n",
    "    u1 = u[0]; u2 = u[1]; u3 = u[2];\n",
    "    a = -1; b = -1; c = -1; la = 0; mu = 1; nu = -1;\n",
    "    return a*b*np.log(u1) - b*np.log(u2) + np.log(u3)\n",
    "\n",
    "def H_2(u):\n",
    "    u1 = u[0]; u2 = u[1]; u3 = u[2];\n",
    "    a = -1; b = -1; c = -1; la = 0; mu = 1; nu = -1;\n",
    "    return a*b*u1 + u2 -a*u3 + nu*np.log(u2) - mu*np.log(u3)\n",
    "\n",
    "def rgam(gammas,u,inc1,inc2,E1_old,E2_old):\n",
    "    gamma1, gamma2 = gammas\n",
    "    uprop = u + gamma1*inc1 + gamma2*inc2  \n",
    "    E1 = H_1(uprop)\n",
    "    E2 = H_2(uprop)\n",
    "    return np.array([E1-E1_old,E2-E2_old])"
   ]
  },
  {
   "cell_type": "markdown",
   "id": "97705822",
   "metadata": {},
   "source": [
    "### Baseline RK methods"
   ]
  },
  {
   "cell_type": "code",
   "execution_count": null,
   "id": "f18c7a08",
   "metadata": {},
   "outputs": [],
   "source": [
    "# Compute solution with baseline methods\n",
    "def compute_sol_without_relaxation(Mthdname,rkm, dt, f, T, u0,t0): \n",
    "    tt = np.zeros(1) \n",
    "    t = t0; tt[0] = t\n",
    "    uu = np.zeros((1,np.size(u0))) \n",
    "    uu[0,:] = u0.copy()\n",
    "    \n",
    "    s = len(rkm)\n",
    "    y = np.zeros((s,len(u0))) \n",
    "    F = np.zeros((s,len(u0))) \n",
    "    steps = 0\n",
    "    \n",
    "    while t < T and not np.isclose(t, T):\n",
    "        clear_output(wait=True)\n",
    "        if t + dt > T:\n",
    "            dt = T - t\n",
    "        for i in range(s):\n",
    "            y[i,:] = uu[-1].copy()\n",
    "            for j in range(i):\n",
    "                y[i,:] += dt*rkm.A[i,j]*F[j,:]\n",
    "            F[i,:] = f(y[i,:])\n",
    "        inc = dt*sum([rkm.b[i]*F[i] for i in range(s)])    \n",
    "        unew = uu[-1]+inc; t+= dt\n",
    "        tt = np.append(tt, t)\n",
    "        steps +=1\n",
    "        uu = np.append(uu, np.reshape(unew.copy(), (1,len(unew))), axis=0)  \n",
    "        print(\"Method = Baseline %s: Step number = %d (time = %1.2f)\"%(Mthdname,steps,tt[-1]))\n",
    "    return tt, uu"
   ]
  },
  {
   "cell_type": "markdown",
   "id": "d6176826",
   "metadata": {},
   "source": [
    "### Relaxation RK methods"
   ]
  },
  {
   "cell_type": "code",
   "execution_count": null,
   "id": "8d17b221",
   "metadata": {},
   "outputs": [],
   "source": [
    "# Computing solution with multiple relaxation methods\n",
    "def compute_sol_multi_relaxation(Mthdname,rkm, dt, f, T, u0, t0):\n",
    "    tt = np.zeros(1) \n",
    "    t = t0; tt[0] = t\n",
    "    uu = np.zeros((1,np.size(u0))) \n",
    "    uu[0,:] = u0.copy()\n",
    "    \n",
    "    s = len(rkm)\n",
    "    y = np.zeros((s,len(u0))) \n",
    "    F = np.zeros((s,len(u0))) \n",
    "    \n",
    "    G1 = np.array([]); G2 = np.array([])\n",
    "    no_inv = 2; gammas0 = np.zeros(no_inv)\n",
    "    \n",
    "    errs = 0; steps = 0\n",
    "    \n",
    "    while t < T and not np.isclose(t, T):\n",
    "        clear_output(wait=True)\n",
    "        if t + dt > T:\n",
    "            dt = T - t\n",
    "        for i in range(s):\n",
    "            y[i,:] = uu[-1].copy()\n",
    "            for j in range(i):\n",
    "                y[i,:] += dt*rkm.A[i,j]*F[j,:]\n",
    "            F[i,:] = f(y[i,:])\n",
    "            \n",
    "        inc1 = dt*sum([rkm.b[i]*F[i] for i in range(s)])\n",
    "        inc2 = dt*sum([rkm.bhat[i]*F[i] for i in range(s)])\n",
    "        \n",
    "        wr_unew = uu[-1] + inc1; E1_old = H_1(uu[-1]); E2_old = H_2(uu[-1])\n",
    "        \n",
    "        gammas, info, ier, mesg = fsolve(rgam,gammas0,args=(wr_unew,inc1,inc2,E1_old,E2_old),full_output=True)\n",
    "        gamma1, gamma2 = gammas\n",
    "        \n",
    "        unew =  wr_unew + gamma1*inc1 + gamma2*inc2; t+=(1+gamma1+gamma2)*dt\n",
    "        tt = np.append(tt, t)\n",
    "        steps += 1\n",
    "        uu = np.append(uu, np.reshape(unew.copy(), (1,len(unew))), axis=0) \n",
    "        G1 = np.append(G1, gamma1); G2 = np.append(G2, gamma2)\n",
    "        print(\"Method = Relaxation %s: At step number = %d (time = %1.2f), integer flag = %d and γ1+γ2 = %f \\n\"%(Mthdname,steps,tt[-1],ier,gamma1+gamma2))\n",
    "\n",
    "    return tt, uu, G1, G2"
   ]
  },
  {
   "cell_type": "markdown",
   "id": "5828a9f5",
   "metadata": {},
   "source": [
    "### Compute solutions by all the methods"
   ]
  },
  {
   "cell_type": "code",
   "execution_count": null,
   "id": "fa37af3c",
   "metadata": {},
   "outputs": [],
   "source": [
    "%time \n",
    "eqn = 'bi_H_LVS'\n",
    "methods = [heun33,rk44,fehlberg45]\n",
    "method_labels = [\"Heun(3,3)\", \"RK(4,4)\",\"Fehlberg(6,5)\"]\n",
    "method_names = [\"Heuns3p3\",\"RKs4p4\",\"Fehlbergs6p5\"]\n",
    "\n",
    "# Inputs to solve the system of ODEs \n",
    "DT = [.04, .1, .1]; \n",
    "f = LVS3D_f; T = 400; \n",
    "\n",
    "# Initial condition\n",
    "t0 = 0; u0 = np.array([1.0, 1.9, 0.5])\n",
    "b_tt = []; b_uu = []; r_tt = []; r_uu = []  # empty list to store data by all the methods\n",
    "\n",
    "for idx in range(len(methods)):\n",
    "    print(idx)\n",
    "    rkm = methods[idx]; dt = DT[idx]\n",
    "    tt, uu, G1, G2 = compute_sol_multi_relaxation(method_labels[idx], rkm, dt, f, T, u0, t0)\n",
    "    r_tt.append(tt); r_uu.append(uu)\n",
    "\n",
    "for idx in range(len(methods)):\n",
    "    rkm = methods[idx]; dt = DT[idx]\n",
    "    tt, uu = compute_sol_without_relaxation(method_labels[idx], rkm, dt, f, T, u0, t0)\n",
    "    b_tt.append(tt); b_uu.append(uu)"
   ]
  },
  {
   "cell_type": "code",
   "execution_count": null,
   "id": "89c363fa",
   "metadata": {},
   "outputs": [],
   "source": [
    "import os\n",
    "path = '%s'%('Figures')\n",
    "\n",
    "import os\n",
    "if not os.path.exists(path):\n",
    "   os.makedirs(path)"
   ]
  },
  {
   "cell_type": "markdown",
   "id": "c806fb3e",
   "metadata": {},
   "source": [
    "### Compute and plot the changes in invariants by different methods"
   ]
  },
  {
   "cell_type": "code",
   "execution_count": null,
   "id": "d23f4b65",
   "metadata": {},
   "outputs": [],
   "source": [
    "b_H_1 = []; b_H_2 = []; r_H_1 = []; r_H_2 = []\n",
    "for i in range(len(methods)):\n",
    "    b_h_1 = [H_1(u) for u in b_uu[i]] - H_1(b_uu[i][0])\n",
    "    b_h_2 = [H_2(u) for u in b_uu[i]] - H_2(b_uu[i][0])\n",
    "    r_h_1 = [H_1(u) for u in r_uu[i]] - H_1(r_uu[i][0])\n",
    "    r_h_2 = [H_2(u) for u in r_uu[i]] - H_2(r_uu[i][0])\n",
    "    b_H_1.append(b_h_1); b_H_2.append(b_h_2)\n",
    "    r_H_1.append(r_h_1); r_H_2.append(r_h_2)"
   ]
  },
  {
   "cell_type": "code",
   "execution_count": null,
   "id": "c8abbe60",
   "metadata": {},
   "outputs": [],
   "source": [
    "font = {#'family' : 'normal',\n",
    "'weight' : 'normal',\n",
    "'size'   : 14}\n",
    "plt.rc('font', **font) \n",
    "plt.figure(figsize=(15, 4))\n",
    "for i in range(len(methods)):\n",
    "    plt.subplot(1,3,i+1)\n",
    "    plt.plot(b_tt[i],b_H_1[i],':r',label=\"Baseline: $H_1(u_1(t),u_2(t),u_3(t))-H_1(u_1(0),u_2(0),u_3(0))$\")\n",
    "    plt.plot(r_tt[i],r_H_1[i],'-r',label=\"Relaxation: $H_1(u_1(t),u_2(t),u_3(t))-H_1(u_1(0),u_2(0),u_3(0))$\")\n",
    "    plt.plot(b_tt[i],b_H_2[i],':b',label=\"Baseline: $H_2(u_1(t),u_2(t),u_3(t))-H_2(u_1(0),u_2(0),u_3(0))$\")\n",
    "    plt.plot(r_tt[i],r_H_2[i],'-b',label=\"Relaxation: $H_2(u_1(t),u_2(t),u_3(t))-H_2(u_1(0),u_2(0),u_3(0))$\")\n",
    "    plt.title(\"%s with $\\Delta t$ = %.2f\"%(method_labels[i],DT[i]))\n",
    "    plt.xlabel(\"$t$\")\n",
    "    plt.yscale(\"symlog\", linthresh=1.e-14)\n",
    "    plt.yticks([-1.e-6, -1.e-10, -1.e-14, 1.e-14, 1.e-10, 1.e-6])\n",
    "    plt.tight_layout()\n",
    "    \n",
    "ax = plt.gca()\n",
    "handles, labels = ax.get_legend_handles_labels()\n",
    "plt.figlegend(handles, labels, loc='upper center', ncol=2, bbox_to_anchor=(0.5, 1.2))\n",
    "#plt.show()\n",
    "plt.savefig(\"./Figures/3DLVS_2_Inv_Error_Time.pdf\", bbox_inches=\"tight\")"
   ]
  },
  {
   "cell_type": "markdown",
   "id": "9d3a2318",
   "metadata": {},
   "source": [
    "### Proxy of exact solution by dp45 (Prince and Dormand) with absolute tolerence as 1e-16"
   ]
  },
  {
   "cell_type": "code",
   "execution_count": null,
   "id": "3c753eb0",
   "metadata": {},
   "outputs": [],
   "source": [
    "import numpy as np\n",
    "from scipy import integrate \n",
    "from scipy.integrate import ode\n",
    "# true solution by Dormand–Prince method\n",
    "def LVS3D_f_tu(t,u):\n",
    "    u1 = u[0]; u2 = u[1]; u3 = u[2];\n",
    "    a = -1; b = -1; c = -1; la = 0; mu = 1; nu = -1;\n",
    "    du1 = u1*(c*u2 + u3 + la)\n",
    "    du2 = u2*(u1 + a*u3 + mu)\n",
    "    du3 = u3*(b*u1 + u2 + nu)\n",
    "    return np.array([du1, du2, du3])\n",
    "\n",
    "def analytical_u_LVS(t,u0):\n",
    "    true_u = np.zeros((len(t), len(u0)))  \n",
    "    t0 = 0; true_u[0, :] = u0\n",
    "    r = integrate.ode(LVS3D_f_tu).set_integrator(\"dopri5\", rtol=1e-16, atol=1e-16)\n",
    "    r.set_initial_value(u0, t0)\n",
    "    for i in range(1, t.size):\n",
    "        true_u[i, :] = r.integrate(t[i]) \n",
    "        if not r.successful():\n",
    "            raise RuntimeError(\"Could not integrate\")\n",
    "    return true_u"
   ]
  },
  {
   "cell_type": "markdown",
   "id": "fa71f07c",
   "metadata": {},
   "source": [
    "### Compute and plot errors by different methods"
   ]
  },
  {
   "cell_type": "code",
   "execution_count": null,
   "id": "35222bed",
   "metadata": {},
   "outputs": [],
   "source": [
    "b_ERR = []; r_ERR = []; u0 = np.array([1.0, 1.9, 0.5])\n",
    "for i in range(len(methods)):\n",
    "    # maximum norm\n",
    "    b_t = b_tt[i]; b_uexact = analytical_u_LVS(b_t,u0)\n",
    "    b_err = np.max(np.abs(b_uu[i]-b_uexact),axis=1)\n",
    "    r_t = r_tt[i]; r_uexact = analytical_u_LVS(r_t,u0)\n",
    "    r_err = np.max(np.abs(r_uu[i]-r_uexact),axis=1)\n",
    "    b_ERR.append(b_err); r_ERR.append(r_err)"
   ]
  },
  {
   "cell_type": "code",
   "execution_count": null,
   "id": "be2b5798",
   "metadata": {},
   "outputs": [],
   "source": [
    "lgd_box_pos = [[0.4,0.2,0.5, 0.5],[0.4,0.1,0.5, 0.5],[0.4,0.5,0.5, 0.5]]\n",
    "sl1_cons_mult = [9e-6,2e-5,8e-7]; sl1_p = [1,1,1]\n",
    "sl2_cons_mult = [7*1e-6,6*1e-6,4e-7]; sl2_p = [2,2,2]\n",
    "y_scale_line = [1e-10,1e-8,1e-7]\n",
    "\n",
    "font = {#'family' : 'normal',\n",
    "'weight' : 'normal',\n",
    "'size'   : 14}\n",
    "plt.rc('font', **font)\n",
    "shift = 1\n",
    "plt.figure(figsize=(15, 4))\n",
    "\n",
    "for i in range(len(methods)):\n",
    "    plt.subplot(1,3,i+1)\n",
    "    plt.plot(b_tt[i]+shift,b_ERR[i],':',color='orangered',label=\"Baseline\")\n",
    "    plt.plot(r_tt[i]+shift,r_ERR[i],'-g',label=\"Relaxation\")\n",
    "    sl_t = np.linspace(10,T,1000)\n",
    "\n",
    "    plt.plot(sl_t,sl1_cons_mult[i]*sl_t**sl1_p[i],'--',color='0.5',label=\"$\\mathcal{O}(t^{%d})$\"%(sl1_p[i]))\n",
    "    plt.plot(sl_t,sl2_cons_mult[i]*sl_t**sl2_p[i],'-',color='0.5',label=\"$\\mathcal{O}(t^{%d})$\"%(sl2_p[i]))\n",
    "     \n",
    "    plt.xscale(\"log\"); plt.yscale(\"log\")\n",
    "    plt.xlabel('t'); plt.ylabel('Error in q')\n",
    "    plt.title(\"%s with $\\Delta t$ = %.2f\"%(method_labels[i],DT[i]))\n",
    "    plt.tight_layout()\n",
    "    \n",
    "ax = plt.gca()\n",
    "handles, labels = ax.get_legend_handles_labels()\n",
    "plt.figlegend(handles, labels, loc='upper center', ncol=6, bbox_to_anchor=(0.5, 1.1))\n",
    "plt.savefig(\"./Figures/3DLVS_Sol_Err_Time.pdf\", bbox_inches=\"tight\")"
   ]
  }
 ],
 "metadata": {
  "kernelspec": {
   "display_name": "Python 3 (ipykernel)",
   "language": "python",
   "name": "python3"
  },
  "language_info": {
   "codemirror_mode": {
    "name": "ipython",
    "version": 3
   },
   "file_extension": ".py",
   "mimetype": "text/x-python",
   "name": "python",
   "nbconvert_exporter": "python",
   "pygments_lexer": "ipython3",
   "version": "3.8.13"
  }
 },
 "nbformat": 4,
 "nbformat_minor": 5
}
