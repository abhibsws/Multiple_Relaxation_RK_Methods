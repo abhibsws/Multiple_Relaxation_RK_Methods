{
 "cells": [
  {
   "cell_type": "code",
   "execution_count": null,
   "id": "356ed60f",
   "metadata": {},
   "outputs": [],
   "source": [
    "import numpy as np\n",
    "import pandas as pd\n",
    "import matplotlib.pyplot as plt\n",
    "from scipy.optimize import fsolve\n",
    "import sympy as sp"
   ]
  },
  {
   "cell_type": "markdown",
   "id": "fde25f68",
   "metadata": {},
   "source": [
    "## Required function"
   ]
  },
  {
   "cell_type": "code",
   "execution_count": null,
   "id": "5cf4a019",
   "metadata": {},
   "outputs": [],
   "source": [
    "def CompositeSimposonInt(x,f):\n",
    "    dx = (x[1]-x[0])\n",
    "    approx = 1/3*dx*(f[0]+4*np.sum(f[1::2])+2*sum(f[2::2][:-1])+f[-1])\n",
    "    return approx\n",
    "\n",
    "def eta0(w):\n",
    "    return np.sum(w) * dx\n",
    "\n",
    "def eta1(w):\n",
    "    return 0.5 * np.sum(w*w) * dx\n",
    "\n",
    "def eta2(w):\n",
    "    f1 = np.append(w,w[0])**3\n",
    "    what = np.fft.fft(w)\n",
    "    wx = np.real(np.fft.ifft(1j*xi*what))\n",
    "    f2 = np.append(wx,wx[0])**2\n",
    "    int_f1 = CompositeSimposonInt(xplot,f1)\n",
    "    int_f2 = CompositeSimposonInt(xplot,f2)\n",
    "    return 2*int_f1 - int_f2"
   ]
  },
  {
   "cell_type": "markdown",
   "id": "bd81ffc9",
   "metadata": {},
   "source": [
    "## Loading data"
   ]
  },
  {
   "cell_type": "code",
   "execution_count": null,
   "id": "f7f05452",
   "metadata": {},
   "outputs": [],
   "source": [
    "# Change here to get numerical results for different cases\n",
    "sol = 3; inv = 2;\n",
    "Data_Folder = 'Data'; Fig_Folder = 'Figures'\n",
    "\n",
    "if sol == 2 and inv == 2: \n",
    "    eqn = 'KdV_%d_sol_%d_inv'%(2,2);\n",
    "    xL = -80; xR = 80; L = xR-xL; N = 1024; DT = [0.01, 0.01]; t0 = -25; T = 25\n",
    "    \n",
    "elif sol == 3 and inv == 2:\n",
    "    eqn = 'KdV_%d_sol_%d_inv'%(3,2);\n",
    "    xL = -130; xR = 130; L = xR-xL; N = 1536; DT = [0.01, 0.01]; t0 = -50; T = 50\n",
    "\n",
    "# method data\n",
    "df = pd.read_csv(\"%s/%s/MethodsData_N%d_T%d.csv\"%(Data_Folder,eqn,N,T),index_col=[0])\n",
    "# Numerical Solution\n",
    "b_tt = np.load(\"%s/%s/Baseline_Time_N%d_T%d.npy\"%(Data_Folder,eqn,N,T), allow_pickle=True)\n",
    "b_uu = np.load(\"%s/%s/Baseline_NumSol_N%d_T%d.npy\"%(Data_Folder,eqn,N,T), allow_pickle=True)\n",
    "r_tt = np.load(\"%s/%s/Relaxation_Time_N%d_T%d.npy\"%(Data_Folder,eqn,N,T), allow_pickle=True)\n",
    "r_uu = np.load(\"%s/%s/Relaxation_NumSol_N%d_T%d.npy\"%(Data_Folder,eqn,N,T), allow_pickle=True)\n",
    "# Reference Solution\n",
    "b_UTrue = np.load(\"%s/%s/TrueSol_BaselineTime_N%d_T%d.npy\"%(Data_Folder,eqn,N,T), allow_pickle=True)\n",
    "r_UTrue = np.load(\"%s/%s/TrueSol_RelaxationTime_N%d_T%d.npy\"%(Data_Folder,eqn,N,T), allow_pickle=True)\n",
    "\n",
    "#-------------------------------------------------------------------------------#\n",
    "# python program to check if a path exists, if path doesn’t exist we create a new path\n",
    "import os\n",
    "path = '%s/%s'%(Fig_Folder,eqn)\n",
    "\n",
    "import os\n",
    "if not os.path.exists(path):\n",
    "   os.makedirs(path)\n",
    "#-------------------------------------------------------------------------------#"
   ]
  },
  {
   "cell_type": "code",
   "execution_count": null,
   "id": "4ccd2268",
   "metadata": {},
   "outputs": [],
   "source": [
    "# Info table\n",
    "df"
   ]
  },
  {
   "cell_type": "code",
   "execution_count": null,
   "id": "b2a5be59",
   "metadata": {},
   "outputs": [],
   "source": [
    "df['Method'] = ['ARK3(2)4L[2]SA','ARK4(3)4L[2]SA']\n",
    "df['Mthd_Save_Name'] = ['ARK32','ARK43']"
   ]
  },
  {
   "cell_type": "code",
   "execution_count": null,
   "id": "a6eb0e19",
   "metadata": {},
   "outputs": [],
   "source": [
    "# Domain\n",
    "xL = int(eval(df['Domain'][0])[0]) # left end point of the domain \n",
    "xR = int(eval(df['Domain'][0])[1]) # right end point of the domain \n",
    "L = xR-xL # length of the domain\n",
    "N = df['N'][0] # number of grid points\n",
    "xplot = np.linspace(xL, xR, N+1)\n",
    "x = xplot[0:-1] \n",
    "dx = x[1] - x[0]\n",
    "xi = np.fft.fftfreq(N) * N * 2*np.pi / L"
   ]
  },
  {
   "cell_type": "markdown",
   "id": "5e182f28",
   "metadata": {},
   "source": [
    "## Plotting solution"
   ]
  },
  {
   "cell_type": "markdown",
   "id": "13389f98",
   "metadata": {},
   "source": [
    "## Invariants"
   ]
  },
  {
   "cell_type": "code",
   "execution_count": null,
   "id": "5fc78ac0",
   "metadata": {},
   "outputs": [],
   "source": [
    "b_ETA_0 = []; r_ETA_0 = []; b_ETA_1 = []; r_ETA_1 = []; b_ETA_2 = []; r_ETA_2 = [];\n",
    "for i in range(len(df['Method'])):\n",
    "    b_eta_0 = [eta0(u) for u in b_uu[i]] - eta0(b_uu[i][0])\n",
    "    b_eta_1 = [eta1(u) for u in b_uu[i]] - eta1(b_uu[i][0])\n",
    "    b_eta_2 = [eta2(u) for u in b_uu[i]] - eta2(b_uu[i][0])\n",
    "    r_eta_0 = [eta0(u) for u in r_uu[i]] - eta0(r_uu[i][0])\n",
    "    r_eta_1 = [eta1(u) for u in r_uu[i]] - eta1(r_uu[i][0])\n",
    "    r_eta_2 = [eta2(u) for u in r_uu[i]] - eta2(r_uu[i][0])\n",
    "    b_ETA_0.append(b_eta_0);\n",
    "    r_ETA_0.append(r_eta_0)\n",
    "    b_ETA_1.append(b_eta_1); \n",
    "    r_ETA_1.append(r_eta_1)\n",
    "    b_ETA_2.append(b_eta_2); \n",
    "    r_ETA_2.append(r_eta_2)"
   ]
  },
  {
   "cell_type": "code",
   "execution_count": null,
   "id": "56f3a1df",
   "metadata": {},
   "outputs": [],
   "source": [
    "# plotting invariants\n",
    "# Font size    \n",
    "font = {#'family' : 'normal',\n",
    "'weight' : 'normal',\n",
    "'size'   : 14}\n",
    "plt.rc('font', **font)\n",
    "plt.figure(figsize=(15, 4))\n",
    "\n",
    "for i in range(len(df['Method'])):\n",
    "    plt.subplot(1,len(df['Method']),i+1)\n",
    "    plt.plot(b_tt[i],b_ETA_0[i],':k',label=\"Baseline: $\\eta_{0}(U(t))-\\eta_{0}(U(0))$\")\n",
    "    plt.plot(r_tt[i],r_ETA_0[i],'-r',label=\"Relaxation: $\\eta_{0}(U(t))-\\eta_{0}(U(0))$\")\n",
    "    plt.plot(b_tt[i],b_ETA_1[i],':b',label=\"Baseline: $\\eta_{1}(U(t))-\\eta_{1}(U(0))$\")\n",
    "    plt.plot(r_tt[i],r_ETA_1[i],'-g',label=\"Relaxation: $\\eta_{1}(U(t))-\\eta_{1}(U(0))$\")\n",
    "    plt.plot(b_tt[i],b_ETA_2[i],':m',label=\"Baseline: $\\eta_{2}(U(t))-\\eta_{2}(U(0))$\")\n",
    "    plt.plot(r_tt[i],r_ETA_2[i],'-y',label=\"Relaxation: $\\eta_{2}(U(t))-\\eta_{2}(U(0))$\")\n",
    "    \n",
    "    plt.title('%s with $\\Delta t$ = %.2f'%(df['Method'][i],df['B: dt'][i]))\n",
    "    plt.xlabel('$t$')\n",
    "    plt.yscale(\"symlog\", linthresh=1.e-14)\n",
    "    plt.yticks([-1.e-2, -1.e-6, -1.e-10, -1.e-14, 1.e-14, 1.e-10, 1.e-6, 1.e-2])\n",
    "    \n",
    "plt.tight_layout()\n",
    "ax = plt.gca()\n",
    "handles, labels = ax.get_legend_handles_labels()\n",
    "plt.figlegend(handles, labels, loc='upper center', ncol=3, bbox_to_anchor=(0.5, 1.2))\n",
    "plt.savefig('%s/%s/%s_InvariantVsTime_dt%1.0e_tf%d.pdf'%(Fig_Folder,eqn,eqn,df['B: dt'][i],T),format='pdf', bbox_inches=\"tight\",transparent=True)\n"
   ]
  },
  {
   "cell_type": "markdown",
   "id": "501f76b3",
   "metadata": {},
   "source": [
    "## Max of invariants error"
   ]
  },
  {
   "cell_type": "code",
   "execution_count": null,
   "id": "2805e58b",
   "metadata": {},
   "outputs": [],
   "source": [
    "for i in range(len(df['Method'])):\n",
    "    print(\"Baseline %s: Max of mass invariant error = %1.2e. \\n\"%(df['Method'][i],np.max(np.abs(b_ETA_0[i]))))\n",
    "    print(\"Relaxation %s: Max of mass invariant error = %1.2e. \\n\"%(df['Method'][i],np.max(np.abs(r_ETA_0[i]))))\n",
    "\n",
    "    print(\"Baseline %s: Max of energy invariant error = %1.2e. \\n\"%(df['Method'][i],np.max(np.abs(b_ETA_1[i]))))\n",
    "    print(\"Relaxation %s: Max of energy invariant error = %1.2e. \\n\"%(df['Method'][i],np.max(np.abs(r_ETA_1[i]))))\n",
    "\n",
    "    print(\"Baseline %s: Max of Whitham invariant error = %1.2e. \\n\"%(df['Method'][i],np.max(np.abs(b_ETA_2[i]))))\n",
    "    print(\"Relaxation %s: Max of Whitham invariant error = %1.2e. \\n\"%(df['Method'][i],np.max(np.abs(r_ETA_2[i]))))"
   ]
  },
  {
   "cell_type": "markdown",
   "id": "35518810",
   "metadata": {},
   "source": [
    "## Errors"
   ]
  },
  {
   "cell_type": "code",
   "execution_count": null,
   "id": "b8a2f153",
   "metadata": {},
   "outputs": [],
   "source": [
    "b_ERR = []; r_ERR = []\n",
    "for i in range(len(df['Method'])):\n",
    "    b_uexact = b_UTrue[i]\n",
    "    b_err = np.max(np.abs(b_uu[i]-b_uexact),axis=1)\n",
    "    r_uexact = r_UTrue[i]\n",
    "    r_err = np.max(np.abs(r_uu[i]-r_uexact),axis=1)\n",
    "    b_ERR.append(b_err); \n",
    "    r_ERR.append(r_err) "
   ]
  },
  {
   "cell_type": "code",
   "execution_count": null,
   "id": "2d1b8bdd",
   "metadata": {},
   "outputs": [],
   "source": [
    "# Plotting\n",
    "if sol == 2 and inv == 2:\n",
    "    sl2_cons_mult = [4e-6,2e-8]; sl2_p = [2,2]\n",
    "    sl1_cons_mult = [10e-5,5e-8]; sl1_p = [1,1] \n",
    "    slope_st_pt = 5  \n",
    "    \n",
    "elif sol == 3 and inv == 2:\n",
    "    sl2_cons_mult = [5e-6,2e-8,2e-9]; sl2_p = [2,2,2]\n",
    "    sl1_cons_mult = [9e-5,5e-8,20e-9]; sl1_p = [1,1,1]  \n",
    "    slope_st_pt = 10\n",
    "\n",
    "    \n",
    "# Font size    \n",
    "font = {#'family' : 'normal',\n",
    "'weight' : 'normal',\n",
    "'size'   : 14}\n",
    "plt.rc('font', **font)\n",
    "plt.figure(figsize=(15, 4))\n",
    "\n",
    "for i in range(len(df['Method'])):\n",
    "    plt.subplot(1,len(df['Method']),i+1)\n",
    "    plt.plot(-df['t0'][0]+b_tt[i],b_ERR[i],':',color='orangered',label=\"Baseline\")\n",
    "    plt.plot(-df['t0'][0]+r_tt[i],r_ERR[i],'-g',label=\"Relaxation\")\n",
    "    sl_b = np.linspace(slope_st_pt,-df['t0'][0]+df['tf'][0],100)\n",
    "    sl_r = np.linspace(slope_st_pt,-df['t0'][0]+df['tf'][0],100)\n",
    "\n",
    "    plt.plot(sl_r,sl1_cons_mult[i]*sl_r**sl1_p[i],'--',color='0.5',label=\"$\\mathcal{O}(t^{%1.1f})$\"%(sl1_p[i]))\n",
    "    plt.plot(sl_b,sl2_cons_mult[i]*sl_b**sl2_p[i],'-',color='0.5',label=\"$\\mathcal{O}(t^{%1.1f})$\"%(sl2_p[i]))\n",
    "    \n",
    "    plt.xlabel('$t+%d$'%(-df['t0'][0]))\n",
    "    plt.ylabel('Error in u')\n",
    "    plt.xscale(\"log\"); plt.yscale(\"log\")\n",
    "    #plt.yticks([ -1.e-1, -1.e-2,-1.e-4, 1.e-4, 1.e-2,1.e-1])\n",
    "    plt.title('%s with $\\Delta t$ = %.2f'%(df['Method'][i],df['B: dt'][i]))\n",
    "    \n",
    "ax = plt.gca()\n",
    "handles, labels = ax.get_legend_handles_labels()\n",
    "plt.figlegend(handles, labels, loc='upper center', ncol=4, bbox_to_anchor=(0.5, 1.15))\n",
    "plt.savefig('%s/%s/%s_ErrorVsTime_dt%1.0e_tf%d.pdf'%(Fig_Folder,eqn,eqn,df['B: dt'][i],T),format='pdf', bbox_inches=\"tight\")"
   ]
  },
  {
   "cell_type": "code",
   "execution_count": null,
   "id": "7246208d",
   "metadata": {},
   "outputs": [],
   "source": []
  }
 ],
 "metadata": {
  "kernelspec": {
   "display_name": "Python 3 (ipykernel)",
   "language": "python",
   "name": "python3"
  },
  "language_info": {
   "codemirror_mode": {
    "name": "ipython",
    "version": 3
   },
   "file_extension": ".py",
   "mimetype": "text/x-python",
   "name": "python",
   "nbconvert_exporter": "python",
   "pygments_lexer": "ipython3",
   "version": "3.8.13"
  }
 },
 "nbformat": 4,
 "nbformat_minor": 5
}
